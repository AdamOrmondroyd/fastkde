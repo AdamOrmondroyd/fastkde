{
 "metadata": {
  "name": "",
  "signature": "sha256:087839a80af90761b45ba12265d25cb28d1ef76f0d35a062dca7844c712a62d7"
 },
 "nbformat": 3,
 "nbformat_minor": 0,
 "worksheets": [
  {
   "cells": [
    {
     "cell_type": "code",
     "collapsed": false,
     "input": [
      "%load_ext cythonmagic"
     ],
     "language": "python",
     "metadata": {},
     "outputs": [
      {
       "output_type": "stream",
       "stream": "stdout",
       "text": [
        "The cythonmagic extension is already loaded. To reload it, use:\n",
        "  %reload_ext cythonmagic\n"
       ]
      }
     ],
     "prompt_number": 10
    },
    {
     "cell_type": "code",
     "collapsed": false,
     "input": [
      "%%cython_pyximport scFilter\n",
      "\n",
      "cdef contiguousHyperVolumeFilter(ecfSq,ecfThresh,numHyperVolumes = 1):\n",
      "    \"\"\"Determines a vector of array indices at which ecfSq is at or above ecfThresh.\n",
      "        \n",
      "        input:\n",
      "        ------\n",
      "            ecfSq     : The magnitude of the empirical characteristic function\n",
      "            \n",
      "            ecfThresh : The threshold on ecfSq for valid values\n",
      "            \n",
      "            numHyperVolumes : The number of hypervolumes to return (must be at least 1)\n",
      "            \n",
      "        returns:\n",
      "        --------\n",
      "        \n",
      "        A vector of array indicies\n",
      "    \n",
      "    \"\"\"\n",
      "    pass"
     ],
     "language": "python",
     "metadata": {},
     "outputs": [],
     "prompt_number": 12
    },
    {
     "cell_type": "code",
     "collapsed": false,
     "input": [],
     "language": "python",
     "metadata": {},
     "outputs": [],
     "prompt_number": 12
    },
    {
     "cell_type": "code",
     "collapsed": false,
     "input": [],
     "language": "python",
     "metadata": {},
     "outputs": []
    }
   ],
   "metadata": {}
  }
 ]
}