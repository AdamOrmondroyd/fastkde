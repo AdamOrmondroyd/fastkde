{
 "metadata": {
  "name": "",
  "signature": "sha256:4f945f30989d00e087e61f749967f23b139fe951031d9fabf891fb41eb07b680"
 },
 "nbformat": 3,
 "nbformat_minor": 0,
 "worksheets": [
  {
   "cells": [
    {
     "cell_type": "code",
     "collapsed": false,
     "input": [
      "import floodFillSearchC as flood\n",
      "from numpy import *"
     ],
     "language": "python",
     "metadata": {},
     "outputs": [],
     "prompt_number": 8
    },
    {
     "cell_type": "code",
     "collapsed": false,
     "input": [
      "a = [[0, 1, 1, 0, 0, 0, 1, 0, 0], \\\n",
      "     [0, 0, 0, 0, 1, 0, 1, 0, 0], \\\n",
      "     [0, 0, 1, 1, 1, 0, 1, 0, 0], \\\n",
      "     [0, 0, 1, 1, 1, 1, 1, 0, 0], \\\n",
      "     [0, 1, 0, 0, 1, 0, 1, 0, 0], \\\n",
      "     [0, 0, 0, 0, 0, 0, 0, 0, 0], \\\n",
      "     [0, 1, 1, 0, 0, 0, 0, 0, 0]]\n",
      "a = array(a,dtype='float')"
     ],
     "language": "python",
     "metadata": {},
     "outputs": [],
     "prompt_number": 9
    },
    {
     "cell_type": "code",
     "collapsed": false,
     "input": [
      "contigInds = flood.floodFillSearch(a)"
     ],
     "language": "python",
     "metadata": {},
     "outputs": [],
     "prompt_number": 10
    },
    {
     "cell_type": "markdown",
     "metadata": {},
     "source": [
      "The following function is designed to take indices from the floodFillSearch Cython function and sort them by distance. This is the basis of a hypervolume filter for the BP11 method that can use an arbitrary number of contiguous hypervolumes.  Using only the closest hypervolume should be equivalent to the lowest hypervolume filter."
     ]
    },
    {
     "cell_type": "code",
     "collapsed": false,
     "input": [
      "sortedInds =  flood.sortByDistanceFromCenter(contigInds,shape(a))"
     ],
     "language": "python",
     "metadata": {},
     "outputs": [
      {
       "ename": "AttributeError",
       "evalue": "'module' object has no attribute 'sortByDistanceFromCenter'",
       "output_type": "pyerr",
       "traceback": [
        "\u001b[0;31m---------------------------------------------------------------------------\u001b[0m\n\u001b[0;31mAttributeError\u001b[0m                            Traceback (most recent call last)",
        "\u001b[0;32m<ipython-input-11-717b06ef312d>\u001b[0m in \u001b[0;36m<module>\u001b[0;34m()\u001b[0m\n\u001b[0;32m----> 1\u001b[0;31m \u001b[0msortedInds\u001b[0m \u001b[0;34m=\u001b[0m  \u001b[0mflood\u001b[0m\u001b[0;34m.\u001b[0m\u001b[0msortByDistanceFromCenter\u001b[0m\u001b[0;34m(\u001b[0m\u001b[0mcontigInds\u001b[0m\u001b[0;34m,\u001b[0m\u001b[0mshape\u001b[0m\u001b[0;34m(\u001b[0m\u001b[0ma\u001b[0m\u001b[0;34m)\u001b[0m\u001b[0;34m)\u001b[0m\u001b[0;34m\u001b[0m\u001b[0m\n\u001b[0m",
        "\u001b[0;31mAttributeError\u001b[0m: 'module' object has no attribute 'sortByDistanceFromCenter'"
       ]
      }
     ],
     "prompt_number": 11
    },
    {
     "cell_type": "markdown",
     "metadata": {},
     "source": [
      "Here is the original array.  Red areas are 1's, blue areas are 0's:"
     ]
    },
    {
     "cell_type": "code",
     "collapsed": false,
     "input": [
      "%matplotlib inline\n",
      "import pylab as P\n",
      "\n",
      "P.imshow(a,interpolation='nearest')\n",
      "P.show()"
     ],
     "language": "python",
     "metadata": {},
     "outputs": []
    },
    {
     "cell_type": "markdown",
     "metadata": {},
     "source": [
      "And the following are the contigous areas in the original array in order of distance from the center:"
     ]
    },
    {
     "cell_type": "code",
     "collapsed": false,
     "input": [
      "numAreas = len(sortedInds)\n",
      "for i in range(numAreas):\n",
      "    P.subplot(numAreas,1,i+1)\n",
      "    b = zeros(shape(a))\n",
      "    b[sortedInds[i]] = a[sortedInds[i]]\n",
      "    P.imshow(b,interpolation='nearest')\n",
      "\n",
      "P.show()"
     ],
     "language": "python",
     "metadata": {},
     "outputs": []
    },
    {
     "cell_type": "code",
     "collapsed": false,
     "input": [],
     "language": "python",
     "metadata": {},
     "outputs": []
    }
   ],
   "metadata": {}
  }
 ]
}