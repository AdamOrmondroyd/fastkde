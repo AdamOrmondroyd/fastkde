{
 "metadata": {
  "name": "",
  "signature": "sha256:fd102159a52c5b3ebdabc718b54f2b349cfa66e2b2083100be37a4363b61d6d6"
 },
 "nbformat": 3,
 "nbformat_minor": 0,
 "worksheets": [
  {
   "cells": [
    {
     "cell_type": "code",
     "collapsed": false,
     "input": [
      "import floodFillSearchC as flood\n",
      "from numpy import *"
     ],
     "language": "python",
     "metadata": {},
     "outputs": [],
     "prompt_number": 1
    },
    {
     "cell_type": "code",
     "collapsed": false,
     "input": [
      "a = [[0, 1, 1, 0, 0, 0, 1, 0, 0], \\\n",
      "     [0, 0, 0, 0, 1, 0, 1, 0, 0], \\\n",
      "     [0, 0, 1, 1, 1, 0, 1, 0, 0], \\\n",
      "     [0, 0, 1, 1, 1, 1, 1, 0, 0], \\\n",
      "     [0, 1, 0, 0, 1, 0, 1, 0, 0], \\\n",
      "     [0, 0, 0, 0, 0, 0, 0, 0, 0], \\\n",
      "     [0, 1, 1, 0, 0, 0, 0, 0, 0]]\n",
      "a = array(a,dtype='float')"
     ],
     "language": "python",
     "metadata": {},
     "outputs": [],
     "prompt_number": 2
    },
    {
     "cell_type": "code",
     "collapsed": false,
     "input": [
      "contigInds = flood.floodFillSearch(a)"
     ],
     "language": "python",
     "metadata": {},
     "outputs": [],
     "prompt_number": 3
    },
    {
     "cell_type": "markdown",
     "metadata": {},
     "source": [
      "The following function is designed to take indices from the floodFillSearch Cython function and sort them by distance. This is the basis of a hypervolume filter for the BP11 method that can use an arbitrary number of contiguous hypervolumes.  Using only the closest hypervolume should be equivalent to the lowest hypervolume filter."
     ]
    },
    {
     "cell_type": "code",
     "collapsed": false,
     "input": [
      "def sortByDistanceFromCenter(inds,varShape):\n",
      "    \"\"\"Takes sets of indicies [e.g., from floodFillSearchC.floodFillSearch()] and \n",
      "    sorts them by distance from the center of the array from which the indices were taken.\n",
      "    \n",
      "        input:\n",
      "        ------\n",
      "        \n",
      "            inds     : a list of tuples of numpy ndarrays (of type integer and rank 1), where each tuple item contains a\n",
      "                       vector of indices for each index of an array.  Each list item should conform to the output of the\n",
      "                       numpy where() function.  It is assumed that each set of indices represents a contiguous portion\n",
      "                       of an array.\n",
      "                       \n",
      "            varShape : the shape of the variable from which inds originate\n",
      "            \n",
      "        returns:\n",
      "        --------\n",
      "             A sorted version of inds, where the items are sorted by the distance of the contiguous area relative to\n",
      "             the center of the array whose shape is varShape.  The first item is the closest to the center of the array.\n",
      "             \n",
      "    \"\"\"\n",
      "    #Get the center index\n",
      "    center = around(array(varShape)/2)\n",
      "    \n",
      "    #Transform the indices to be center-relative\n",
      "    centeredInds = [ tuple([ aind - cind] for aind,cind in zip(indTuples,center)) for indTuples in inds ]\n",
      "    \n",
      "    #Calculate center-of-mass ffor each contiguous array\n",
      "    centersOfMass = [ array([average(aind) for aind in indTuples]) for indTuples in centeredInds]\n",
      "    \n",
      "    #Calculate the distance from the origin of each center of mass\n",
      "    distances = [ sqrt(sum(indices**2)) for indices in centersOfMass]\n",
      "    \n",
      "    #Determine the sorting indices that will sort inds by distance from the center\n",
      "    isort = list(argsort(distances))\n",
      "    \n",
      "    #Return the sorted index array\n",
      "    return [inds[i] for i in isort]"
     ],
     "language": "python",
     "metadata": {},
     "outputs": [],
     "prompt_number": 4
    },
    {
     "cell_type": "code",
     "collapsed": false,
     "input": [
      "sortedInds =  sortByDistanceFromCenter(contigInds,shape(a))"
     ],
     "language": "python",
     "metadata": {},
     "outputs": [],
     "prompt_number": 5
    },
    {
     "cell_type": "markdown",
     "metadata": {},
     "source": [
      "Here is the original array.  Red areas are 1's, blue areas are 0's:"
     ]
    },
    {
     "cell_type": "code",
     "collapsed": false,
     "input": [
      "%matplotlib inline\n",
      "import pylab as P\n",
      "\n",
      "P.imshow(a,interpolation='nearest')\n",
      "P.show()"
     ],
     "language": "python",
     "metadata": {},
     "outputs": [
      {
       "metadata": {},
       "output_type": "display_data",
       "png": "[encoded data removed]",
       "text": [
        "<matplotlib.figure.Figure at 0x10fb4c610>"
       ]
      }
     ],
     "prompt_number": 6
    },
    {
     "cell_type": "markdown",
     "metadata": {},
     "source": [
      "And the following are the contigous areas in the original array in order of distance from the center:"
     ]
    },
    {
     "cell_type": "code",
     "collapsed": false,
     "input": [
      "numAreas = len(sortedInds)\n",
      "for i in range(numAreas):\n",
      "    P.subplot(numAreas,1,i+1)\n",
      "    b = zeros(shape(a))\n",
      "    b[sortedInds[i]] = a[sortedInds[i]]\n",
      "    P.imshow(b,interpolation='nearest')\n",
      "\n",
      "P.show()"
     ],
     "language": "python",
     "metadata": {},
     "outputs": [
      {
       "metadata": {},
       "output_type": "display_data",
       "png": "[encoded data removed]",
       "text": [
        "<matplotlib.figure.Figure at 0x11094c0d0>"
       ]
      }
     ],
     "prompt_number": 7
    },
    {
     "cell_type": "code",
     "collapsed": false,
     "input": [],
     "language": "python",
     "metadata": {},
     "outputs": [],
     "prompt_number": 7
    }
   ],
   "metadata": {}
  }
 ]
}