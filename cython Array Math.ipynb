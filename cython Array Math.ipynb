{
 "metadata": {
  "name": "",
  "signature": "sha256:e1b14988fbc1a7cfc9f6dda8a92cd7dc5c34193c98c89fe8e293bc0e9a5f2621"
 },
 "nbformat": 3,
 "nbformat_minor": 0,
 "worksheets": [
  {
   "cells": [
    {
     "cell_type": "code",
     "collapsed": false,
     "input": [
      "%load_ext cythonmagic"
     ],
     "language": "python",
     "metadata": {},
     "outputs": [],
     "prompt_number": 1
    },
    {
     "cell_type": "code",
     "collapsed": false,
     "input": [
      "import numpy as np"
     ],
     "language": "python",
     "metadata": {},
     "outputs": [],
     "prompt_number": 2
    },
    {
     "cell_type": "code",
     "collapsed": false,
     "input": [
      "aa,_,_ = np.meshgrid(np.arange(10),np.arange(10,25),np.arange(25,30))\n",
      "\n",
      "aashape = np.array(aa.shape).astype(np.int)\n",
      "aaRavel = aa.ravel()"
     ],
     "language": "python",
     "metadata": {},
     "outputs": [],
     "prompt_number": 98
    },
    {
     "cell_type": "code",
     "collapsed": false,
     "input": [
      "%%cython\n",
      "import numpy as np\n",
      "cimport numpy as np\n",
      "cimport cython\n",
      "\n",
      "cdef extern from \"math.h\" nogil:\n",
      "    double floor(double x)\n",
      "    \n",
      "@cython.boundscheck(False)\n",
      "cpdef int unravelIndex( \\\n",
      "                   np.int_t i, \\\n",
      "                   np.int_t [:] frequencySizes, \\\n",
      "                   np.int_t [:] dimInds) :\n",
      "    \"\"\"Takes the 1D index i of a raveled variable of shape frequencySizes and returns\n",
      "    an array of the unraveled indices.\"\"\"\n",
      "\n",
      "    cdef np.int_t ndims\n",
      "    cdef np.int_t n,nd,iDum\n",
      "    cdef np.int_t hyperSize\n",
      "\n",
      "    ndims = frequencySizes.shape[0]\n",
      "\n",
      "    hyperSize = 1\n",
      "    for n in range(1,ndims):\n",
      "        hyperSize *= frequencySizes[n]\n",
      "        \n",
      "    iDum = i\n",
      "    for n in range(ndims):\n",
      "        dimInds[n] = <np.int_t> floor((<double> iDum)/(<double> hyperSize))\n",
      "        iDum -= dimInds[n]*hyperSize\n",
      "        if n < ndims:\n",
      "            hyperSize /= frequencySizes[n+1]\n",
      "\n",
      "    return 0"
     ],
     "language": "python",
     "metadata": {},
     "outputs": [],
     "prompt_number": 142
    },
    {
     "cell_type": "code",
     "collapsed": false,
     "input": [
      "dimInds = np.zeros([len(aashape)],dtype=np.int)\n",
      "\n",
      "unravelIndex(14,aashape,dimInds)\n",
      "\n",
      "for i in range(len(aaRavel)):\n",
      "    unravelIndex(i,aashape,dimInds)\n",
      "    #print tuple(dimInds),np.unravel_index(i,aashape)\n",
      "    assert aaRavel[i] == aa[tuple(dimInds)]"
     ],
     "language": "python",
     "metadata": {},
     "outputs": [],
     "prompt_number": 145
    },
    {
     "cell_type": "code",
     "collapsed": false,
     "input": [
      "%%cython\n",
      "import numpy as np\n",
      "cimport numpy as np\n",
      "cimport cython\n",
      "\n",
      "@cython.boundscheck(False)\n",
      "cpdef int ravelIndex( \\\n",
      "                   np.int_t [:] frequencySizes, \\\n",
      "                   np.int_t [:] dimInds) :\n",
      "    \"\"\"Calculates the 1D index i of a raveled variable of shape frequencySizes, given\n",
      "    an array of the unraveled indices.\"\"\"\n",
      "\n",
      "    cdef np.int_t ndims\n",
      "    cdef np.int_t n\n",
      "    cdef np.int_t hyperSize\n",
      "    cdef np.int_t i\n",
      "\n",
      "    ndims = frequencySizes.shape[0]\n",
      "\n",
      "    hyperSize = 1\n",
      "    i = 0\n",
      "    for n in range(ndims-1,-1,-1):\n",
      "        i += hyperSize*dimInds[n]\n",
      "        hyperSize *= frequencySizes[n]\n",
      "    return i"
     ],
     "language": "python",
     "metadata": {},
     "outputs": [],
     "prompt_number": 148
    },
    {
     "cell_type": "code",
     "collapsed": false,
     "input": [
      "for i in range(len(aaRavel)):\n",
      "    dimInds[:] = np.unravel_index(i,aashape)\n",
      "    j = ravelIndex(aashape,dimInds)\n",
      "    #print j,i\n",
      "    assert i == j"
     ],
     "language": "python",
     "metadata": {},
     "outputs": [],
     "prompt_number": 150
    },
    {
     "cell_type": "code",
     "collapsed": false,
     "input": [],
     "language": "python",
     "metadata": {},
     "outputs": []
    }
   ],
   "metadata": {}
  }
 ]
}