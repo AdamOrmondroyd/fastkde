{
 "metadata": {
  "name": "",
  "signature": "sha256:e2f454c2448b4cf2fa4f6e81108662b5909dac959cd7cdd99c7b5103a03ee1dd"
 },
 "nbformat": 3,
 "nbformat_minor": 0,
 "worksheets": [
  {
   "cells": [
    {
     "cell_type": "code",
     "collapsed": false,
     "input": [
      "%load_ext cythonmagic"
     ],
     "language": "python",
     "metadata": {},
     "outputs": [],
     "prompt_number": 1
    },
    {
     "cell_type": "code",
     "collapsed": false,
     "input": [
      "import numpy as np"
     ],
     "language": "python",
     "metadata": {},
     "outputs": [],
     "prompt_number": 2
    },
    {
     "cell_type": "code",
     "collapsed": false,
     "input": [
      "aa,_,_ = np.meshgrid(np.arange(10),np.arange(10,25),np.arange(25,30))\n",
      "\n",
      "aashape = np.array(aa.shape).astype(np.int)\n",
      "aaRavel = aa.ravel()"
     ],
     "language": "python",
     "metadata": {},
     "outputs": [],
     "prompt_number": 98
    },
    {
     "cell_type": "code",
     "collapsed": false,
     "input": [
      "%%cython\n",
      "import numpy as np\n",
      "cimport numpy as np\n",
      "cimport cython\n",
      "\n",
      "cdef extern from \"math.h\" nogil:\n",
      "    double floor(double x)\n",
      "    \n",
      "@cython.boundscheck(False)\n",
      "cpdef int unravelIndex( \\\n",
      "                   np.int_t i, \\\n",
      "                   np.int_t [:] frequencySizes, \\\n",
      "                   np.int_t [:] dimInds) :\n",
      "    \"\"\"Takes the 1D index i of a raveled variable of shape frequencySizes and returns\n",
      "    an array of the unraveled indices.\"\"\"\n",
      "\n",
      "    cdef np.int_t ndims\n",
      "    cdef np.int_t n,nd,iDum\n",
      "    cdef np.int_t hyperSize\n",
      "\n",
      "    ndims = frequencySizes.shape[0]\n",
      "\n",
      "    hyperSize = 1\n",
      "    for n in range(1,ndims):\n",
      "        hyperSize *= frequencySizes[n]\n",
      "        \n",
      "    iDum = i\n",
      "    for n in range(ndims):\n",
      "        dimInds[n] = <np.int_t> floor((<double> iDum)/(<double> hyperSize))\n",
      "        iDum -= dimInds[n]*hyperSize\n",
      "        if n < ndims:\n",
      "            hyperSize /= frequencySizes[n+1]\n",
      "\n",
      "    return 0"
     ],
     "language": "python",
     "metadata": {},
     "outputs": [],
     "prompt_number": 142
    },
    {
     "cell_type": "code",
     "collapsed": false,
     "input": [
      "dimInds = np.zeros([len(aashape)],dtype=np.int)\n",
      "\n",
      "unravelIndex(14,aashape,dimInds)\n",
      "\n",
      "for i in range(len(aaRavel)):\n",
      "    unravelIndex(i,aashape,dimInds)\n",
      "    #print tuple(dimInds),np.unravel_index(i,aashape)\n",
      "    assert aaRavel[i] == aa[tuple(dimInds)]"
     ],
     "language": "python",
     "metadata": {},
     "outputs": [],
     "prompt_number": 145
    },
    {
     "cell_type": "code",
     "collapsed": false,
     "input": [],
     "language": "python",
     "metadata": {},
     "outputs": [
      {
       "metadata": {},
       "output_type": "pyout",
       "prompt_number": 118,
       "text": [
        "array([], dtype=int64)"
       ]
      }
     ],
     "prompt_number": 118
    },
    {
     "cell_type": "code",
     "collapsed": false,
     "input": [],
     "language": "python",
     "metadata": {},
     "outputs": []
    }
   ],
   "metadata": {}
  }
 ]
}